{
  "nbformat": 4,
  "nbformat_minor": 0,
  "metadata": {
    "colab": {
      "name": "Efeitos Colaterais de Vacinas.ipynb",
      "provenance": [],
      "collapsed_sections": []
    },
    "kernelspec": {
      "name": "python3",
      "display_name": "Python 3"
    },
    "language_info": {
      "name": "python"
    }
  },
  "cells": [
    {
      "cell_type": "markdown",
      "metadata": {
        "id": "A1eaRA1fD2PW"
      },
      "source": [
        "![alt text](https://encrypted-tbn0.gstatic.com/images?q=tbn%3AANd9GcTK4gQ9nhwHHaSXMHpeggWg7twwMCgb877smkRmtkmDeDoGF9Z6&usqp=CAU)\n",
        "# <font color='Blue'>Ciência dos Dados na Prática</font>\n",
        "\n",
        "# <font color='purple'> Prevendo Efeitos Colaterais de Vacinas - Inteligência Artificial </font>\n",
        "\n",
        "![](https://www.news-medical.net/image-handler/picture/2021/4/WIW_Banner_Facebook_Format-6.gif)\n",
        "\n",
        "![](https://stories.cnnbrasil.com.br/wp-content/uploads/sites/9/2021/07/vacina-2.gif)"
      ]
    },
    {
      "cell_type": "markdown",
      "metadata": {
        "id": "7UZrTIez-hvf"
      },
      "source": [
        "# 1° Problema de Negócio"
      ]
    },
    {
      "cell_type": "markdown",
      "metadata": {
        "id": "EROwtmloUm9B"
      },
      "source": [
        "### Precisamos criar um Sistema de Previsão de Efeitos Colaterais das Vacinas COVID 19, baseado em Inteligência Artificial.\n"
      ]
    },
    {
      "cell_type": "markdown",
      "metadata": {
        "id": "sVpL9zxO-wZe"
      },
      "source": [
        "# 2° Análise Exploratória "
      ]
    },
    {
      "cell_type": "code",
      "metadata": {
        "id": "4MW7S_Pm42M8"
      },
      "source": [
        "!wget \"https://github.com/XxAnirudh-RameshxX/Vaccine-side-effect-detection/raw/main/VAERS_processed.csv\""
      ],
      "execution_count": null,
      "outputs": []
    },
    {
      "cell_type": "code",
      "metadata": {
        "id": "IIra4iV85FzY"
      },
      "source": [
        "import pandas as pd\n",
        "import gzip\n",
        "from sklearn.preprocessing import OrdinalEncoder\n",
        "import numpy as np\n",
        "import matplotlib.pyplot as plt\n",
        "import tensorflow as tf\n",
        "import keras\n",
        "from keras.models import Sequential\n",
        "from keras.layers import Dense, Dropout\n",
        "from sklearn.model_selection import train_test_split"
      ],
      "execution_count": 3,
      "outputs": []
    },
    {
      "cell_type": "code",
      "metadata": {
        "colab": {
          "base_uri": "https://localhost:8080/"
        },
        "id": "oR8FiEiOiiFy",
        "outputId": "8a21d9c5-b75b-47cc-d0f4-51fa0003a34a"
      },
      "source": [
        "!wget \"https://snap.stanford.edu/biodata/datasets/10021/files/D-DoMiner_miner-diseaseDOID.tsv.gz\"\n",
        "with gzip.open(\"D-DoMiner_miner-diseaseDOID.tsv.gz\") as f:\n",
        "    df = pd.read_csv(f, sep='\\t')\n",
        "l=list(df[\"Name\"])\n",
        "len(l)"
      ],
      "execution_count": 4,
      "outputs": [
        {
          "output_type": "stream",
          "name": "stdout",
          "text": [
            "--2021-11-05 18:08:33--  https://snap.stanford.edu/biodata/datasets/10021/files/D-DoMiner_miner-diseaseDOID.tsv.gz\n",
            "Resolving snap.stanford.edu (snap.stanford.edu)... 171.64.75.80\n",
            "Connecting to snap.stanford.edu (snap.stanford.edu)|171.64.75.80|:443... connected.\n",
            "HTTP request sent, awaiting response... 200 OK\n",
            "Length: 430481 (420K) [application/x-gzip]\n",
            "Saving to: ‘D-DoMiner_miner-diseaseDOID.tsv.gz’\n",
            "\n",
            "D-DoMiner_miner-dis 100%[===================>] 420.39K  1.41MB/s    in 0.3s    \n",
            "\n",
            "2021-11-05 18:08:34 (1.41 MB/s) - ‘D-DoMiner_miner-diseaseDOID.tsv.gz’ saved [430481/430481]\n",
            "\n"
          ]
        },
        {
          "output_type": "execute_result",
          "data": {
            "text/plain": [
              "9247"
            ]
          },
          "metadata": {},
          "execution_count": 4
        }
      ]
    },
    {
      "cell_type": "code",
      "metadata": {
        "id": "B3WOe2FH5K4H"
      },
      "source": [
        "data = pd.read_csv(\"/content/VAERS_processed.csv\")\n",
        "data.head()"
      ],
      "execution_count": null,
      "outputs": []
    },
    {
      "cell_type": "code",
      "metadata": {
        "id": "68dLAtQmiwIX"
      },
      "source": [
        "# required_cols = [3, 6, 24, 25, 26, 34, 42]\n",
        "data = data.fillna(0)\n",
        "data = data.replace(to_replace=\"Y\", value=1)\n",
        "data = data.replace(to_replace=False, value=0)\n",
        "data = data.replace(to_replace=True, value=1)"
      ],
      "execution_count": 6,
      "outputs": []
    },
    {
      "cell_type": "code",
      "metadata": {
        "id": "9K5kHN1b5RCU"
      },
      "source": [
        "columns = data.columns\n",
        "col_indices = {}\n",
        "for i in range(len(columns)):\n",
        "  col_indices[i] = columns[i]\n",
        "col_indices"
      ],
      "execution_count": null,
      "outputs": []
    },
    {
      "cell_type": "markdown",
      "metadata": {
        "id": "8_cuPz5t-1v7"
      },
      "source": [
        "# 3° Pré-Processamento dos Dados"
      ]
    },
    {
      "cell_type": "code",
      "metadata": {
        "colab": {
          "base_uri": "https://localhost:8080/"
        },
        "id": "djxG00PHvbI-",
        "outputId": "160a54c5-e7e5-4ee4-c5c8-86efb5c30988"
      },
      "source": [
        "one_hot_history = [[0 for _ in range(10)] for _ in range(len(data))]\n",
        "# len(data)\n",
        "classes = [['blood pressure', 'htn', 'hypertension'], ['asthma'], ['diabetes'],\n",
        "           ['covid-19', 'covid 19', 'covid', 'corona', 'sars'], ['hypothyroidism'],\n",
        "           ['hyperlipidemia'], ['cholesterol'], ['depression'], ['obesity', 'obese', 'overweight', 'fat'],\n",
        "           ['kidney']]\n",
        "columns = ['Hypertension', 'Asthma', 'Diabetes', 'Corona', 'Hypothyroidism', \n",
        "           'Hyperlipidemia', 'Chelestrol', 'Depression', 'Obesity', 'Kidney']\n",
        "history = data.iloc[:, 26:27].values.tolist()\n",
        "for i in range(len(history)):\n",
        "  if type(history[i][0]) == int:\n",
        "    continue\n",
        "  str_hist = history[i][0].lower()\n",
        "  for j in range(len(classes)):\n",
        "    for k in classes[j]:\n",
        "      if k in str_hist:\n",
        "        one_hot_history[i][j] = 1\n",
        "        break\n",
        "histroy_dataframe = pd.DataFrame(one_hot_history, columns=columns)\n",
        "print(histroy_dataframe)\n",
        "print(len(histroy_dataframe))"
      ],
      "execution_count": 8,
      "outputs": [
        {
          "output_type": "stream",
          "name": "stdout",
          "text": [
            "      Hypertension  Asthma  Diabetes  ...  Depression  Obesity  Kidney\n",
            "0                0       0         0  ...           0        0       0\n",
            "1                0       0         0  ...           0        0       0\n",
            "2                0       0         0  ...           0        0       0\n",
            "3                1       0         0  ...           0        0       0\n",
            "4                0       1         0  ...           0        0       0\n",
            "...            ...     ...       ...  ...         ...      ...     ...\n",
            "5274             0       0         0  ...           0        0       0\n",
            "5275             0       0         0  ...           0        0       0\n",
            "5276             0       0         0  ...           0        0       0\n",
            "5277             0       0         0  ...           0        0       0\n",
            "5278             0       0         0  ...           0        0       0\n",
            "\n",
            "[5279 rows x 10 columns]\n",
            "5279\n"
          ]
        }
      ]
    },
    {
      "cell_type": "code",
      "metadata": {
        "colab": {
          "base_uri": "https://localhost:8080/"
        },
        "id": "_yWhkoM-vvxl",
        "outputId": "3411bdd0-8676-46d1-90be-714005c464ee"
      },
      "source": [
        "required_cols = [3, 6 , 42] + [i for i in range(82, 92)]\n",
        "additional_labels = [\"Pain\", 'Pyrexia', 'Headache', 'Dyspnoea', 'Fatigue', 'Chills', 'Dizziness', 'Nausea', 'Asthenia', 'Cough']\n",
        "# additional_labels = [43]\n",
        "data = pd.concat([data, histroy_dataframe], axis=1)\n",
        "columns = data.columns.values\n",
        "required_cols = columns[required_cols]\n",
        "X = data[required_cols].iloc[:, :]\n",
        "y = data[additional_labels].iloc[:, :]\n",
        "oe = OrdinalEncoder()\n",
        "oe.fit(X[[\"VAX_NAME\"]])\n",
        "X[\"VAX_NAME\"] = oe.transform(X[[\"VAX_NAME\"]])\n",
        "oe_sex = OrdinalEncoder()\n",
        "oe_sex.fit(X[[\"SEX\"]])\n",
        "X[\"SEX\"] = oe_sex.transform(X[[\"SEX\"]])\n",
        "# print(X.shape)\n",
        "# print(y.shape)\n",
        "# print(X)\n",
        "# print(y)\n",
        "# print(X.columns)\n",
        "# data.head()"
      ],
      "execution_count": 9,
      "outputs": [
        {
          "output_type": "stream",
          "name": "stderr",
          "text": [
            "/usr/local/lib/python3.7/dist-packages/ipykernel_launcher.py:11: SettingWithCopyWarning: \n",
            "A value is trying to be set on a copy of a slice from a DataFrame.\n",
            "Try using .loc[row_indexer,col_indexer] = value instead\n",
            "\n",
            "See the caveats in the documentation: https://pandas.pydata.org/pandas-docs/stable/user_guide/indexing.html#returning-a-view-versus-a-copy\n",
            "  # This is added back by InteractiveShellApp.init_path()\n",
            "/usr/local/lib/python3.7/dist-packages/ipykernel_launcher.py:14: SettingWithCopyWarning: \n",
            "A value is trying to be set on a copy of a slice from a DataFrame.\n",
            "Try using .loc[row_indexer,col_indexer] = value instead\n",
            "\n",
            "See the caveats in the documentation: https://pandas.pydata.org/pandas-docs/stable/user_guide/indexing.html#returning-a-view-versus-a-copy\n",
            "  \n"
          ]
        }
      ]
    },
    {
      "cell_type": "code",
      "metadata": {
        "id": "QlNTj_tY2lP8"
      },
      "source": [
        "X_train, X_test, y_train, y_test = train_test_split(X, y, test_size=0.1, random_state=42)"
      ],
      "execution_count": 10,
      "outputs": []
    },
    {
      "cell_type": "code",
      "metadata": {
        "colab": {
          "base_uri": "https://localhost:8080/"
        },
        "id": "gH3-2pHx4h6U",
        "outputId": "81490410-e429-4931-a157-c6567665e5ad"
      },
      "source": [
        "print(X_train)\n",
        "print(y_train)"
      ],
      "execution_count": 11,
      "outputs": [
        {
          "output_type": "stream",
          "name": "stdout",
          "text": [
            "      AGE_YRS  SEX  VAX_NAME  ...  Depression  Obesity  Kidney\n",
            "4944     39.0  0.0       0.0  ...           0        0       0\n",
            "2835     26.0  0.0       1.0  ...           0        0       0\n",
            "2117      0.0  2.0       1.0  ...           0        0       0\n",
            "1650     57.0  1.0       1.0  ...           0        0       0\n",
            "893      36.0  0.0       1.0  ...           0        0       0\n",
            "...       ...  ...       ...  ...         ...      ...     ...\n",
            "3092     92.0  1.0       1.0  ...           0        0       0\n",
            "3772      0.0  2.0       1.0  ...           0        0       0\n",
            "5191     92.0  1.0       1.0  ...           0        0       0\n",
            "5226     45.0  0.0       0.0  ...           0        0       0\n",
            "860      83.0  0.0       1.0  ...           0        0       0\n",
            "\n",
            "[4751 rows x 13 columns]\n",
            "      Pain  Pyrexia  Headache  Dyspnoea  ...  Dizziness  Nausea  Asthenia  Cough\n",
            "4944   1.0      1.0       0.0       0.0  ...        0.0     0.0       0.0    0.0\n",
            "2835   0.0      1.0       0.0       0.0  ...        1.0     0.0       1.0    0.0\n",
            "2117   0.0      0.0       0.0       0.0  ...        0.0     0.0       0.0    0.0\n",
            "1650   0.0      0.0       0.0       0.0  ...        0.0     0.0       0.0    0.0\n",
            "893    0.0      0.0       0.0       0.0  ...        0.0     0.0       0.0    0.0\n",
            "...    ...      ...       ...       ...  ...        ...     ...       ...    ...\n",
            "3092   0.0      0.0       0.0       0.0  ...        0.0     0.0       0.0    1.0\n",
            "3772   0.0      0.0       0.0       0.0  ...        0.0     0.0       0.0    0.0\n",
            "5191   0.0      1.0       0.0       0.0  ...        0.0     0.0       1.0    0.0\n",
            "5226   0.0      0.0       0.0       0.0  ...        0.0     0.0       0.0    0.0\n",
            "860    0.0      0.0       0.0       1.0  ...        0.0     0.0       0.0    0.0\n",
            "\n",
            "[4751 rows x 10 columns]\n"
          ]
        }
      ]
    },
    {
      "cell_type": "markdown",
      "metadata": {
        "id": "Gk95-xuyASS7"
      },
      "source": [
        "# 4° Criando Máquinas Preditivas"
      ]
    },
    {
      "cell_type": "code",
      "metadata": {
        "id": "P9fJQ0mmDYZG"
      },
      "source": [
        "from keras.callbacks import ModelCheckpoint\n",
        "model_checkpoint = ModelCheckpoint('MP.h5', monitor=\"val_accuracy\", save_best_only=True)"
      ],
      "execution_count": 12,
      "outputs": []
    },
    {
      "cell_type": "code",
      "metadata": {
        "id": "g9ks-4Rz4tBZ"
      },
      "source": [
        "model = Sequential()\n",
        "model.add(Dense(64, input_shape=X_train.shape[1:], activation=\"relu\"))\n",
        "model.add(Dropout(0.1))\n",
        "model.add(Dense(128, activation=\"relu\"))\n",
        "model.add(Dropout(0.1))\n",
        "model.add(Dense(256, activation=\"relu\"))\n",
        "model.add(Dropout(0.1))\n",
        "model.add(Dense(128, activation=\"relu\"))\n",
        "model.add(Dropout(0.1))\n",
        "model.add(Dense(64, activation=\"relu\"))\n",
        "model.add(Dropout(0.1))\n",
        "model.add(Dense(10, activation=\"sigmoid\"))\n",
        "model.compile(loss=\"binary_crossentropy\", metrics=[\"accuracy\"], optimizer=\"adam\")"
      ],
      "execution_count": 13,
      "outputs": []
    },
    {
      "cell_type": "code",
      "metadata": {
        "colab": {
          "base_uri": "https://localhost:8080/"
        },
        "id": "eRtfUvao530_",
        "outputId": "b119ee5f-cdfe-4c2b-9119-f6c4a12e0569"
      },
      "source": [
        "model.summary()"
      ],
      "execution_count": 14,
      "outputs": [
        {
          "output_type": "stream",
          "name": "stdout",
          "text": [
            "Model: \"sequential\"\n",
            "_________________________________________________________________\n",
            "Layer (type)                 Output Shape              Param #   \n",
            "=================================================================\n",
            "dense (Dense)                (None, 64)                896       \n",
            "_________________________________________________________________\n",
            "dropout (Dropout)            (None, 64)                0         \n",
            "_________________________________________________________________\n",
            "dense_1 (Dense)              (None, 128)               8320      \n",
            "_________________________________________________________________\n",
            "dropout_1 (Dropout)          (None, 128)               0         \n",
            "_________________________________________________________________\n",
            "dense_2 (Dense)              (None, 256)               33024     \n",
            "_________________________________________________________________\n",
            "dropout_2 (Dropout)          (None, 256)               0         \n",
            "_________________________________________________________________\n",
            "dense_3 (Dense)              (None, 128)               32896     \n",
            "_________________________________________________________________\n",
            "dropout_3 (Dropout)          (None, 128)               0         \n",
            "_________________________________________________________________\n",
            "dense_4 (Dense)              (None, 64)                8256      \n",
            "_________________________________________________________________\n",
            "dropout_4 (Dropout)          (None, 64)                0         \n",
            "_________________________________________________________________\n",
            "dense_5 (Dense)              (None, 10)                650       \n",
            "=================================================================\n",
            "Total params: 84,042\n",
            "Trainable params: 84,042\n",
            "Non-trainable params: 0\n",
            "_________________________________________________________________\n"
          ]
        }
      ]
    },
    {
      "cell_type": "code",
      "metadata": {
        "colab": {
          "base_uri": "https://localhost:8080/"
        },
        "id": "SKEOIDU46JoL",
        "outputId": "41d8ea84-6313-4976-97d4-a067597bf7b2"
      },
      "source": [
        "model.fit(X_train, y_train, epochs=100, validation_data=(X_test, y_test), callbacks=[model_checkpoint])"
      ],
      "execution_count": 15,
      "outputs": [
        {
          "output_type": "stream",
          "name": "stdout",
          "text": [
            "Epoch 1/100\n",
            "149/149 [==============================] - 2s 5ms/step - loss: 0.3783 - accuracy: 0.4111 - val_loss: 0.3355 - val_accuracy: 0.7519\n",
            "Epoch 2/100\n",
            "149/149 [==============================] - 1s 4ms/step - loss: 0.3411 - accuracy: 0.6060 - val_loss: 0.3336 - val_accuracy: 0.7519\n",
            "Epoch 3/100\n",
            "149/149 [==============================] - 1s 4ms/step - loss: 0.3348 - accuracy: 0.6622 - val_loss: 0.3383 - val_accuracy: 0.7519\n",
            "Epoch 4/100\n",
            "149/149 [==============================] - 1s 4ms/step - loss: 0.3322 - accuracy: 0.7125 - val_loss: 0.3310 - val_accuracy: 0.7519\n",
            "Epoch 5/100\n",
            "149/149 [==============================] - 1s 4ms/step - loss: 0.3297 - accuracy: 0.7083 - val_loss: 0.3302 - val_accuracy: 0.7519\n",
            "Epoch 6/100\n",
            "149/149 [==============================] - 1s 4ms/step - loss: 0.3291 - accuracy: 0.7104 - val_loss: 0.3291 - val_accuracy: 0.7519\n",
            "Epoch 7/100\n",
            "149/149 [==============================] - 1s 4ms/step - loss: 0.3283 - accuracy: 0.7230 - val_loss: 0.3304 - val_accuracy: 0.7519\n",
            "Epoch 8/100\n",
            "149/149 [==============================] - 1s 4ms/step - loss: 0.3278 - accuracy: 0.7276 - val_loss: 0.3318 - val_accuracy: 0.7519\n",
            "Epoch 9/100\n",
            "149/149 [==============================] - 1s 4ms/step - loss: 0.3261 - accuracy: 0.7137 - val_loss: 0.3288 - val_accuracy: 0.7519\n",
            "Epoch 10/100\n",
            "149/149 [==============================] - 1s 4ms/step - loss: 0.3257 - accuracy: 0.7062 - val_loss: 0.3283 - val_accuracy: 0.7519\n",
            "Epoch 11/100\n",
            "149/149 [==============================] - 1s 4ms/step - loss: 0.3260 - accuracy: 0.7173 - val_loss: 0.3306 - val_accuracy: 0.7519\n",
            "Epoch 12/100\n",
            "149/149 [==============================] - 1s 4ms/step - loss: 0.3243 - accuracy: 0.7278 - val_loss: 0.3292 - val_accuracy: 0.7519\n",
            "Epoch 13/100\n",
            "149/149 [==============================] - 1s 4ms/step - loss: 0.3243 - accuracy: 0.7262 - val_loss: 0.3284 - val_accuracy: 0.7519\n",
            "Epoch 14/100\n",
            "149/149 [==============================] - 1s 4ms/step - loss: 0.3240 - accuracy: 0.7201 - val_loss: 0.3293 - val_accuracy: 0.7519\n",
            "Epoch 15/100\n",
            "149/149 [==============================] - 1s 3ms/step - loss: 0.3242 - accuracy: 0.7171 - val_loss: 0.3287 - val_accuracy: 0.7519\n",
            "Epoch 16/100\n",
            "149/149 [==============================] - 1s 4ms/step - loss: 0.3239 - accuracy: 0.7100 - val_loss: 0.3278 - val_accuracy: 0.7519\n",
            "Epoch 17/100\n",
            "149/149 [==============================] - 1s 4ms/step - loss: 0.3240 - accuracy: 0.7144 - val_loss: 0.3307 - val_accuracy: 0.7519\n",
            "Epoch 18/100\n",
            "149/149 [==============================] - 1s 4ms/step - loss: 0.3228 - accuracy: 0.7081 - val_loss: 0.3277 - val_accuracy: 0.6970\n",
            "Epoch 19/100\n",
            "149/149 [==============================] - 1s 4ms/step - loss: 0.3237 - accuracy: 0.6868 - val_loss: 0.3279 - val_accuracy: 0.7519\n",
            "Epoch 20/100\n",
            "149/149 [==============================] - 1s 4ms/step - loss: 0.3229 - accuracy: 0.6999 - val_loss: 0.3279 - val_accuracy: 0.7519\n",
            "Epoch 21/100\n",
            "149/149 [==============================] - 1s 4ms/step - loss: 0.3227 - accuracy: 0.6881 - val_loss: 0.3282 - val_accuracy: 0.7519\n",
            "Epoch 22/100\n",
            "149/149 [==============================] - 1s 4ms/step - loss: 0.3222 - accuracy: 0.7055 - val_loss: 0.3296 - val_accuracy: 0.7519\n",
            "Epoch 23/100\n",
            "149/149 [==============================] - 1s 4ms/step - loss: 0.3220 - accuracy: 0.6889 - val_loss: 0.3276 - val_accuracy: 0.7519\n",
            "Epoch 24/100\n",
            "149/149 [==============================] - 1s 4ms/step - loss: 0.3217 - accuracy: 0.7026 - val_loss: 0.3272 - val_accuracy: 0.7519\n",
            "Epoch 25/100\n",
            "149/149 [==============================] - 1s 4ms/step - loss: 0.3219 - accuracy: 0.6942 - val_loss: 0.3298 - val_accuracy: 0.7519\n",
            "Epoch 26/100\n",
            "149/149 [==============================] - 1s 4ms/step - loss: 0.3213 - accuracy: 0.6862 - val_loss: 0.3276 - val_accuracy: 0.7519\n",
            "Epoch 27/100\n",
            "149/149 [==============================] - 1s 4ms/step - loss: 0.3210 - accuracy: 0.7055 - val_loss: 0.3271 - val_accuracy: 0.7519\n",
            "Epoch 28/100\n",
            "149/149 [==============================] - 1s 4ms/step - loss: 0.3212 - accuracy: 0.6902 - val_loss: 0.3307 - val_accuracy: 0.7519\n",
            "Epoch 29/100\n",
            "149/149 [==============================] - 1s 4ms/step - loss: 0.3207 - accuracy: 0.7043 - val_loss: 0.3291 - val_accuracy: 0.7519\n",
            "Epoch 30/100\n",
            "149/149 [==============================] - 1s 4ms/step - loss: 0.3215 - accuracy: 0.6973 - val_loss: 0.3290 - val_accuracy: 0.7519\n",
            "Epoch 31/100\n",
            "149/149 [==============================] - 1s 4ms/step - loss: 0.3211 - accuracy: 0.6809 - val_loss: 0.3270 - val_accuracy: 0.7519\n",
            "Epoch 32/100\n",
            "149/149 [==============================] - 1s 4ms/step - loss: 0.3214 - accuracy: 0.7049 - val_loss: 0.3281 - val_accuracy: 0.7519\n",
            "Epoch 33/100\n",
            "149/149 [==============================] - 1s 4ms/step - loss: 0.3206 - accuracy: 0.6876 - val_loss: 0.3299 - val_accuracy: 0.7008\n",
            "Epoch 34/100\n",
            "149/149 [==============================] - 1s 4ms/step - loss: 0.3205 - accuracy: 0.6805 - val_loss: 0.3295 - val_accuracy: 0.6780\n",
            "Epoch 35/100\n",
            "149/149 [==============================] - 1s 4ms/step - loss: 0.3209 - accuracy: 0.6876 - val_loss: 0.3268 - val_accuracy: 0.7500\n",
            "Epoch 36/100\n",
            "149/149 [==============================] - 1s 4ms/step - loss: 0.3211 - accuracy: 0.7060 - val_loss: 0.3273 - val_accuracy: 0.7008\n",
            "Epoch 37/100\n",
            "149/149 [==============================] - 1s 3ms/step - loss: 0.3198 - accuracy: 0.6818 - val_loss: 0.3281 - val_accuracy: 0.7424\n",
            "Epoch 38/100\n",
            "149/149 [==============================] - 1s 4ms/step - loss: 0.3212 - accuracy: 0.6834 - val_loss: 0.3288 - val_accuracy: 0.7330\n",
            "Epoch 39/100\n",
            "149/149 [==============================] - 1s 3ms/step - loss: 0.3205 - accuracy: 0.6870 - val_loss: 0.3291 - val_accuracy: 0.7443\n",
            "Epoch 40/100\n",
            "149/149 [==============================] - 1s 3ms/step - loss: 0.3196 - accuracy: 0.6879 - val_loss: 0.3276 - val_accuracy: 0.6837\n",
            "Epoch 41/100\n",
            "149/149 [==============================] - 1s 3ms/step - loss: 0.3201 - accuracy: 0.6885 - val_loss: 0.3294 - val_accuracy: 0.6989\n",
            "Epoch 42/100\n",
            "149/149 [==============================] - 1s 4ms/step - loss: 0.3212 - accuracy: 0.6891 - val_loss: 0.3290 - val_accuracy: 0.7424\n",
            "Epoch 43/100\n",
            "149/149 [==============================] - 1s 4ms/step - loss: 0.3197 - accuracy: 0.6925 - val_loss: 0.3287 - val_accuracy: 0.7481\n",
            "Epoch 44/100\n",
            "149/149 [==============================] - 1s 4ms/step - loss: 0.3198 - accuracy: 0.6874 - val_loss: 0.3290 - val_accuracy: 0.7462\n",
            "Epoch 45/100\n",
            "149/149 [==============================] - 1s 4ms/step - loss: 0.3195 - accuracy: 0.6828 - val_loss: 0.3278 - val_accuracy: 0.7405\n",
            "Epoch 46/100\n",
            "149/149 [==============================] - 1s 4ms/step - loss: 0.3193 - accuracy: 0.6925 - val_loss: 0.3275 - val_accuracy: 0.7330\n",
            "Epoch 47/100\n",
            "149/149 [==============================] - 1s 4ms/step - loss: 0.3200 - accuracy: 0.6971 - val_loss: 0.3298 - val_accuracy: 0.6970\n",
            "Epoch 48/100\n",
            "149/149 [==============================] - 1s 4ms/step - loss: 0.3194 - accuracy: 0.6742 - val_loss: 0.3295 - val_accuracy: 0.7481\n",
            "Epoch 49/100\n",
            "149/149 [==============================] - 1s 4ms/step - loss: 0.3189 - accuracy: 0.6719 - val_loss: 0.3314 - val_accuracy: 0.7500\n",
            "Epoch 50/100\n",
            "149/149 [==============================] - 1s 4ms/step - loss: 0.3197 - accuracy: 0.6771 - val_loss: 0.3305 - val_accuracy: 0.6780\n",
            "Epoch 51/100\n",
            "149/149 [==============================] - 1s 4ms/step - loss: 0.3197 - accuracy: 0.6826 - val_loss: 0.3312 - val_accuracy: 0.6723\n",
            "Epoch 52/100\n",
            "149/149 [==============================] - 1s 4ms/step - loss: 0.3196 - accuracy: 0.6759 - val_loss: 0.3306 - val_accuracy: 0.7443\n",
            "Epoch 53/100\n",
            "149/149 [==============================] - 1s 4ms/step - loss: 0.3192 - accuracy: 0.6864 - val_loss: 0.3294 - val_accuracy: 0.7386\n",
            "Epoch 54/100\n",
            "149/149 [==============================] - 1s 4ms/step - loss: 0.3197 - accuracy: 0.6900 - val_loss: 0.3311 - val_accuracy: 0.7386\n",
            "Epoch 55/100\n",
            "149/149 [==============================] - 1s 4ms/step - loss: 0.3190 - accuracy: 0.6828 - val_loss: 0.3315 - val_accuracy: 0.6970\n",
            "Epoch 56/100\n",
            "149/149 [==============================] - 1s 4ms/step - loss: 0.3194 - accuracy: 0.6769 - val_loss: 0.3308 - val_accuracy: 0.7386\n",
            "Epoch 57/100\n",
            "149/149 [==============================] - 1s 4ms/step - loss: 0.3186 - accuracy: 0.6744 - val_loss: 0.3300 - val_accuracy: 0.6856\n",
            "Epoch 58/100\n",
            "149/149 [==============================] - 1s 4ms/step - loss: 0.3196 - accuracy: 0.6643 - val_loss: 0.3313 - val_accuracy: 0.6818\n",
            "Epoch 59/100\n",
            "149/149 [==============================] - 1s 4ms/step - loss: 0.3187 - accuracy: 0.6782 - val_loss: 0.3304 - val_accuracy: 0.7254\n",
            "Epoch 60/100\n",
            "149/149 [==============================] - 1s 4ms/step - loss: 0.3183 - accuracy: 0.6615 - val_loss: 0.3334 - val_accuracy: 0.6970\n",
            "Epoch 61/100\n",
            "149/149 [==============================] - 1s 4ms/step - loss: 0.3190 - accuracy: 0.6626 - val_loss: 0.3316 - val_accuracy: 0.6970\n",
            "Epoch 62/100\n",
            "149/149 [==============================] - 1s 4ms/step - loss: 0.3184 - accuracy: 0.6695 - val_loss: 0.3308 - val_accuracy: 0.6913\n",
            "Epoch 63/100\n",
            "149/149 [==============================] - 1s 4ms/step - loss: 0.3178 - accuracy: 0.6674 - val_loss: 0.3338 - val_accuracy: 0.6970\n",
            "Epoch 64/100\n",
            "149/149 [==============================] - 1s 4ms/step - loss: 0.3184 - accuracy: 0.6670 - val_loss: 0.3323 - val_accuracy: 0.6799\n",
            "Epoch 65/100\n",
            "149/149 [==============================] - 1s 4ms/step - loss: 0.3177 - accuracy: 0.6662 - val_loss: 0.3315 - val_accuracy: 0.6894\n",
            "Epoch 66/100\n",
            "149/149 [==============================] - 1s 4ms/step - loss: 0.3185 - accuracy: 0.6472 - val_loss: 0.3319 - val_accuracy: 0.6799\n",
            "Epoch 67/100\n",
            "149/149 [==============================] - 1s 4ms/step - loss: 0.3193 - accuracy: 0.6759 - val_loss: 0.3312 - val_accuracy: 0.6989\n",
            "Epoch 68/100\n",
            "149/149 [==============================] - 1s 4ms/step - loss: 0.3174 - accuracy: 0.6422 - val_loss: 0.3333 - val_accuracy: 0.6572\n",
            "Epoch 69/100\n",
            "149/149 [==============================] - 1s 4ms/step - loss: 0.3187 - accuracy: 0.6716 - val_loss: 0.3325 - val_accuracy: 0.6989\n",
            "Epoch 70/100\n",
            "149/149 [==============================] - 1s 4ms/step - loss: 0.3173 - accuracy: 0.6611 - val_loss: 0.3333 - val_accuracy: 0.6951\n",
            "Epoch 71/100\n",
            "149/149 [==============================] - 1s 4ms/step - loss: 0.3176 - accuracy: 0.6544 - val_loss: 0.3321 - val_accuracy: 0.6496\n",
            "Epoch 72/100\n",
            "149/149 [==============================] - 1s 4ms/step - loss: 0.3173 - accuracy: 0.6535 - val_loss: 0.3325 - val_accuracy: 0.6894\n",
            "Epoch 73/100\n",
            "149/149 [==============================] - 1s 4ms/step - loss: 0.3184 - accuracy: 0.6592 - val_loss: 0.3334 - val_accuracy: 0.6534\n",
            "Epoch 74/100\n",
            "149/149 [==============================] - 1s 4ms/step - loss: 0.3177 - accuracy: 0.6716 - val_loss: 0.3326 - val_accuracy: 0.6742\n",
            "Epoch 75/100\n",
            "149/149 [==============================] - 1s 4ms/step - loss: 0.3176 - accuracy: 0.6588 - val_loss: 0.3344 - val_accuracy: 0.6989\n",
            "Epoch 76/100\n",
            "149/149 [==============================] - 1s 4ms/step - loss: 0.3172 - accuracy: 0.6559 - val_loss: 0.3317 - val_accuracy: 0.6970\n",
            "Epoch 77/100\n",
            "149/149 [==============================] - 1s 4ms/step - loss: 0.3177 - accuracy: 0.6815 - val_loss: 0.3334 - val_accuracy: 0.7424\n",
            "Epoch 78/100\n",
            "149/149 [==============================] - 1s 4ms/step - loss: 0.3170 - accuracy: 0.6502 - val_loss: 0.3322 - val_accuracy: 0.6799\n",
            "Epoch 79/100\n",
            "149/149 [==============================] - 1s 4ms/step - loss: 0.3166 - accuracy: 0.6788 - val_loss: 0.3348 - val_accuracy: 0.6970\n",
            "Epoch 80/100\n",
            "149/149 [==============================] - 1s 4ms/step - loss: 0.3167 - accuracy: 0.6592 - val_loss: 0.3327 - val_accuracy: 0.6742\n",
            "Epoch 81/100\n",
            "149/149 [==============================] - 1s 4ms/step - loss: 0.3173 - accuracy: 0.6582 - val_loss: 0.3342 - val_accuracy: 0.6818\n",
            "Epoch 82/100\n",
            "149/149 [==============================] - 1s 4ms/step - loss: 0.3173 - accuracy: 0.6668 - val_loss: 0.3328 - val_accuracy: 0.7348\n",
            "Epoch 83/100\n",
            "149/149 [==============================] - 1s 5ms/step - loss: 0.3171 - accuracy: 0.6679 - val_loss: 0.3328 - val_accuracy: 0.6970\n",
            "Epoch 84/100\n",
            "149/149 [==============================] - 1s 4ms/step - loss: 0.3165 - accuracy: 0.6691 - val_loss: 0.3349 - val_accuracy: 0.7027\n",
            "Epoch 85/100\n",
            "149/149 [==============================] - 1s 4ms/step - loss: 0.3171 - accuracy: 0.6731 - val_loss: 0.3367 - val_accuracy: 0.6970\n",
            "Epoch 86/100\n",
            "149/149 [==============================] - 1s 4ms/step - loss: 0.3168 - accuracy: 0.6742 - val_loss: 0.3348 - val_accuracy: 0.6799\n",
            "Epoch 87/100\n",
            "149/149 [==============================] - 1s 4ms/step - loss: 0.3165 - accuracy: 0.6729 - val_loss: 0.3343 - val_accuracy: 0.7443\n",
            "Epoch 88/100\n",
            "149/149 [==============================] - 1s 4ms/step - loss: 0.3159 - accuracy: 0.6691 - val_loss: 0.3338 - val_accuracy: 0.6723\n",
            "Epoch 89/100\n",
            "149/149 [==============================] - 1s 4ms/step - loss: 0.3154 - accuracy: 0.6489 - val_loss: 0.3353 - val_accuracy: 0.6742\n",
            "Epoch 90/100\n",
            "149/149 [==============================] - 1s 4ms/step - loss: 0.3157 - accuracy: 0.6453 - val_loss: 0.3364 - val_accuracy: 0.6780\n",
            "Epoch 91/100\n",
            "149/149 [==============================] - 1s 4ms/step - loss: 0.3160 - accuracy: 0.6622 - val_loss: 0.3356 - val_accuracy: 0.7159\n",
            "Epoch 92/100\n",
            "149/149 [==============================] - 1s 4ms/step - loss: 0.3158 - accuracy: 0.6681 - val_loss: 0.3324 - val_accuracy: 0.7216\n",
            "Epoch 93/100\n",
            "149/149 [==============================] - 1s 4ms/step - loss: 0.3163 - accuracy: 0.6708 - val_loss: 0.3351 - val_accuracy: 0.6515\n",
            "Epoch 94/100\n",
            "149/149 [==============================] - 1s 4ms/step - loss: 0.3162 - accuracy: 0.6773 - val_loss: 0.3323 - val_accuracy: 0.6856\n",
            "Epoch 95/100\n",
            "149/149 [==============================] - 1s 4ms/step - loss: 0.3158 - accuracy: 0.6586 - val_loss: 0.3342 - val_accuracy: 0.6970\n",
            "Epoch 96/100\n",
            "149/149 [==============================] - 1s 4ms/step - loss: 0.3155 - accuracy: 0.6580 - val_loss: 0.3335 - val_accuracy: 0.6799\n",
            "Epoch 97/100\n",
            "149/149 [==============================] - 1s 4ms/step - loss: 0.3151 - accuracy: 0.6672 - val_loss: 0.3343 - val_accuracy: 0.6951\n",
            "Epoch 98/100\n",
            "149/149 [==============================] - 1s 4ms/step - loss: 0.3161 - accuracy: 0.6689 - val_loss: 0.3356 - val_accuracy: 0.7367\n",
            "Epoch 99/100\n",
            "149/149 [==============================] - 1s 4ms/step - loss: 0.3156 - accuracy: 0.6506 - val_loss: 0.3338 - val_accuracy: 0.6818\n",
            "Epoch 100/100\n",
            "149/149 [==============================] - 1s 4ms/step - loss: 0.3159 - accuracy: 0.6468 - val_loss: 0.3349 - val_accuracy: 0.6894\n"
          ]
        },
        {
          "output_type": "execute_result",
          "data": {
            "text/plain": [
              "<keras.callbacks.History at 0x7f7edd2d05d0>"
            ]
          },
          "metadata": {},
          "execution_count": 15
        }
      ]
    },
    {
      "cell_type": "code",
      "metadata": {
        "id": "djRrQIxo7Jtu"
      },
      "source": [
        "from keras.models import load_model\n",
        "model1 = load_model(\"MP.h5\")"
      ],
      "execution_count": 16,
      "outputs": []
    },
    {
      "cell_type": "code",
      "metadata": {
        "id": "ZBDD3w_VkmdJ"
      },
      "source": [
        "model1.evaluate(X_test, y_test)"
      ],
      "execution_count": null,
      "outputs": []
    },
    {
      "cell_type": "code",
      "metadata": {
        "id": "lEV6NVdqk-KF"
      },
      "source": [
        "x = X_train.iloc[:1]"
      ],
      "execution_count": 18,
      "outputs": []
    },
    {
      "cell_type": "code",
      "metadata": {
        "id": "kv68DsEAtYHt"
      },
      "source": [
        "x"
      ],
      "execution_count": null,
      "outputs": []
    },
    {
      "cell_type": "code",
      "metadata": {
        "id": "rVEohOhNnKvg"
      },
      "source": [
        "x = np.array(x)"
      ],
      "execution_count": 20,
      "outputs": []
    },
    {
      "cell_type": "code",
      "metadata": {
        "colab": {
          "base_uri": "https://localhost:8080/"
        },
        "id": "xl-7PcSCnUwE",
        "outputId": "1b401fb5-9ee6-4464-ee0d-1646021e7d83"
      },
      "source": [
        "x"
      ],
      "execution_count": 21,
      "outputs": [
        {
          "output_type": "execute_result",
          "data": {
            "text/plain": [
              "array([[39.,  0.,  0.,  0.,  0.,  0.,  0.,  0.,  0.,  0.,  0.,  0.,  0.]])"
            ]
          },
          "metadata": {},
          "execution_count": 21
        }
      ]
    },
    {
      "cell_type": "code",
      "metadata": {
        "id": "YizWpTwmsJnj"
      },
      "source": [
        "x.shape"
      ],
      "execution_count": null,
      "outputs": []
    },
    {
      "cell_type": "code",
      "metadata": {
        "id": "L0WCB7KGndOS"
      },
      "source": [
        "y = model1.predict(x)"
      ],
      "execution_count": 23,
      "outputs": []
    },
    {
      "cell_type": "code",
      "metadata": {
        "id": "iYcsc9pPnhPo"
      },
      "source": [
        "y"
      ],
      "execution_count": null,
      "outputs": []
    },
    {
      "cell_type": "code",
      "metadata": {
        "id": "WPM6oW9Cnh5m"
      },
      "source": [
        "symptoms_label = y_train.columns"
      ],
      "execution_count": 25,
      "outputs": []
    },
    {
      "cell_type": "code",
      "metadata": {
        "id": "CiwTZrtAnu7h"
      },
      "source": [
        "symptoms_label"
      ],
      "execution_count": null,
      "outputs": []
    },
    {
      "cell_type": "code",
      "metadata": {
        "id": "OtuvX0HfnyYu"
      },
      "source": [
        "symptoms_label[1]"
      ],
      "execution_count": null,
      "outputs": []
    },
    {
      "cell_type": "code",
      "metadata": {
        "id": "1mJKhzGgpMGQ"
      },
      "source": [
        "indices = (-y).argsort()[:3]\n",
        "indices"
      ],
      "execution_count": null,
      "outputs": []
    },
    {
      "cell_type": "code",
      "metadata": {
        "id": "duzzAwzb0ICK"
      },
      "source": [
        "y.shape"
      ],
      "execution_count": null,
      "outputs": []
    },
    {
      "cell_type": "code",
      "metadata": {
        "id": "twqlIAntq7lk"
      },
      "source": [
        "values = []\n",
        "labels = []\n",
        "for count in range(3):\n",
        "  idx = np.where(indices==count)\n",
        "  print(len(idx))\n",
        "  values.append(y[0][idx[1][0]])\n",
        "  labels.append(symptoms_label[idx[1][0]])\n"
      ],
      "execution_count": null,
      "outputs": []
    },
    {
      "cell_type": "code",
      "metadata": {
        "id": "YdD6rbjouPSj"
      },
      "source": [
        "values\n",
        "labels"
      ],
      "execution_count": null,
      "outputs": []
    },
    {
      "cell_type": "code",
      "metadata": {
        "id": "VjJGxwV7n0lP"
      },
      "source": [
        "import plotly.graph_objects as go\n",
        "\n",
        "fig = go.Figure(data=[go.Pie(labels=labels, values=values)])\n",
        "fig.show()"
      ],
      "execution_count": null,
      "outputs": []
    },
    {
      "cell_type": "code",
      "metadata": {
        "id": "czIETYR80enI"
      },
      "source": [
        "X_train.columns"
      ],
      "execution_count": null,
      "outputs": []
    },
    {
      "cell_type": "markdown",
      "metadata": {
        "id": "jIqEALr1VViq"
      },
      "source": [
        "# 1° Problema de Negócio"
      ]
    },
    {
      "cell_type": "markdown",
      "metadata": {
        "id": "mDIeQM8YVVis"
      },
      "source": [
        "# 2° Análise Exploratória "
      ]
    },
    {
      "cell_type": "markdown",
      "metadata": {
        "id": "-3asaepLVVit"
      },
      "source": [
        "# 3° Pré-Processamento dos Dados"
      ]
    },
    {
      "cell_type": "markdown",
      "metadata": {
        "id": "KxE8Lyg9VViu"
      },
      "source": [
        "# 4° Criando Máquinas Preditivas"
      ]
    },
    {
      "cell_type": "markdown",
      "metadata": {
        "id": "SLF6vuqmxTUL"
      },
      "source": [
        "#Fim"
      ]
    },
    {
      "cell_type": "markdown",
      "metadata": {
        "id": "_fHqFSvWe94c"
      },
      "source": [
        "## Valeu!"
      ]
    },
    {
      "cell_type": "markdown",
      "metadata": {
        "id": "_2DT4SBZRDP-"
      },
      "source": [
        "### # Onde me Encontrar - Ciência dos Dados <a href=\"https://linktr.ee/cienciadosdados\">https://linktr.ee/cienciadosdados</a>"
      ]
    },
    {
      "cell_type": "code",
      "metadata": {
        "id": "_pg8zEm-Nv6Y",
        "colab": {
          "base_uri": "https://localhost:8080/",
          "height": 201
        },
        "outputId": "75c7f9bb-ebf5-47c8-efae-85f1ce215c3b"
      },
      "source": [
        "from IPython.core.display import HTML\n",
        "HTML('<iframe width=\"320\" height=\"180\" src=\"https://www.youtube.com/embed/WH6_pWe2_r0\" title=\"YouTube video player\" frameborder=\"0\" allow=\"accelerometer; autoplay; clipboard-write; encrypted-media; gyroscope; picture-in-picture\" allowfullscreen></iframe>')"
      ],
      "execution_count": null,
      "outputs": [
        {
          "output_type": "execute_result",
          "data": {
            "text/html": [
              "<iframe width=\"320\" height=\"180\" src=\"https://www.youtube.com/embed/WH6_pWe2_r0\" title=\"YouTube video player\" frameborder=\"0\" allow=\"accelerometer; autoplay; clipboard-write; encrypted-media; gyroscope; picture-in-picture\" allowfullscreen></iframe>"
            ],
            "text/plain": [
              "<IPython.core.display.HTML object>"
            ]
          },
          "metadata": {},
          "execution_count": 1
        }
      ]
    },
    {
      "cell_type": "markdown",
      "metadata": {
        "id": "uwypdTNchUdO"
      },
      "source": [
        "* Fontes Úteis:\n",
        "\n",
        "https://github.com/murali22chan/Vaccine.AI\n",
        "\n",
        "https://vaccine-ai.herokuapp.com/\n"
      ]
    }
  ]
}